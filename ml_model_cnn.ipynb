{
 "cells": [
  {
   "cell_type": "code",
   "execution_count": 220,
   "metadata": {},
   "outputs": [],
   "source": [
    "import torch\n",
    "import torchvision\n",
    "import torchvision.transforms as transforms\n",
    "import torchvision.datasets as datasets\n",
    "import matplotlib.pyplot as plt\n",
    "import numpy as np\n",
    "import torch.nn as nn\n",
    "import torch.optim as optim\n",
    "from torch.utils.data import Dataset, DataLoader, random_split\n",
    "import random\n",
    "import pandas as pd\n",
    "from glob import glob\n",
    "import os\n"
   ]
  },
  {
   "cell_type": "code",
   "execution_count": 221,
   "metadata": {},
   "outputs": [],
   "source": [
    "params = {\n",
    "    'LR' : 1e-3,\n",
    "    'kernel_size' : 3,\n",
    "    'filters' : 16,\n",
    "    'batch' : 16,\n",
    "    'strides' : 1,\n",
    "    'dropout_rate' : 0.5\n",
    "}\n",
    "data_path = \"final_results_sims_steps/sims\""
   ]
  },
  {
   "cell_type": "code",
   "execution_count": 222,
   "metadata": {},
   "outputs": [],
   "source": [
    "class CombinedArrayDataset(Dataset):\n",
    "    def __init__(self, folder_path):\n",
    "        csv_files = glob(os.path.join(folder_path, \"*.csv\"))\n",
    "        data_frames = [pd.read_csv(file) for file in csv_files]\n",
    "        combined_df = pd.concat(data_frames, ignore_index=True)\n",
    "\n",
    "        self.belief = combined_df['belief'].apply(lambda x: np.array(eval(x), dtype=np.float32)).tolist()\n",
    "        self.ship = combined_df['ship'].apply(lambda x: np.array(eval(x), dtype=np.float32)).tolist()\n",
    "        self.labels = combined_df['remain'].tolist()\n",
    "\n",
    "    def __len__(self):\n",
    "        return len(self.labels)\n",
    "\n",
    "    def __getitem__(self, idx):\n",
    "        belief = self.belief[idx]\n",
    "        ship = self.ship[idx]\n",
    "        label = self.labels[idx]\n",
    "\n",
    "        belief = torch.tensor(belief, dtype=torch.float32) \n",
    "        ship = torch.tensor(ship, dtype= torch.float32)\n",
    "        label = torch.tensor(label, dtype=torch.float32) \n",
    "        input_tensor = torch.stack((belief, ship), dim=0) \n",
    "        return input_tensor, label\n",
    "\n",
    "dataset = CombinedArrayDataset(data_path)\n"
   ]
  },
  {
   "cell_type": "code",
   "execution_count": 223,
   "metadata": {},
   "outputs": [
    {
     "data": {
      "text/plain": [
       "132462"
      ]
     },
     "execution_count": 223,
     "metadata": {},
     "output_type": "execute_result"
    }
   ],
   "source": [
    "len(dataset)"
   ]
  },
  {
   "cell_type": "code",
   "execution_count": 224,
   "metadata": {},
   "outputs": [
    {
     "data": {
      "text/plain": [
       "(torch.Size([2, 30, 30]), tensor(178.))"
      ]
     },
     "execution_count": 224,
     "metadata": {},
     "output_type": "execute_result"
    }
   ],
   "source": [
    "input, label = dataset[0]\n",
    "input.shape, label"
   ]
  },
  {
   "cell_type": "code",
   "execution_count": 225,
   "metadata": {},
   "outputs": [
    {
     "data": {
      "text/plain": [
       "tensor([[[0.0000, 0.0000, 0.0000,  ..., 0.0000, 0.0000, 0.0000],\n",
       "         [0.0000, 0.0018, 0.0018,  ..., 0.0018, 0.0018, 0.0000],\n",
       "         [0.0000, 0.0018, 0.0000,  ..., 0.0018, 0.0000, 0.0000],\n",
       "         ...,\n",
       "         [0.0000, 0.0018, 0.0018,  ..., 0.0018, 0.0018, 0.0000],\n",
       "         [0.0000, 0.0000, 0.0018,  ..., 0.0000, 0.0018, 0.0000],\n",
       "         [0.0000, 0.0000, 0.0000,  ..., 0.0000, 0.0000, 0.0000]],\n",
       "\n",
       "        [[0.0000, 0.0000, 0.0000,  ..., 0.0000, 0.0000, 0.0000],\n",
       "         [0.0000, 1.0000, 1.0000,  ..., 1.0000, 1.0000, 0.0000],\n",
       "         [0.0000, 1.0000, 0.0000,  ..., 1.0000, 0.0000, 0.0000],\n",
       "         ...,\n",
       "         [0.0000, 1.0000, 1.0000,  ..., 1.0000, 1.0000, 0.0000],\n",
       "         [0.0000, 0.0000, 1.0000,  ..., 0.0000, 1.0000, 0.0000],\n",
       "         [0.0000, 0.0000, 0.0000,  ..., 0.0000, 0.0000, 0.0000]]])"
      ]
     },
     "execution_count": 225,
     "metadata": {},
     "output_type": "execute_result"
    }
   ],
   "source": [
    "input"
   ]
  },
  {
   "cell_type": "code",
   "execution_count": 226,
   "metadata": {},
   "outputs": [],
   "source": [
    "class SpaceRatNetwork(nn.Module):\n",
    "    def __init__(self, filters, kernel_size, strides, dropout_rate):\n",
    "        super(SpaceRatNetwork, self).__init__()\n",
    "        self.conv1 = nn.Conv2d(2, filters, kernel_size, stride=strides, padding = 1)\n",
    "        self.pool = nn.MaxPool2d(2)\n",
    "        self.relu = nn.ReLU()\n",
    "        \n",
    "        conv_out_size = ((30 - kernel_size + 2) // strides) + 1  \n",
    "        pool_out_size = ((conv_out_size - 2) // 2) + 1  \n",
    "        fc1_input_size = filters * (pool_out_size ** 2) \n",
    "        \n",
    "        self.fc1 = nn.Linear(fc1_input_size, 256)  \n",
    "        self.fc2 = nn.Linear(256, 128)\n",
    "        self.fc3 = nn.Linear(128,1)\n",
    "        self.dropout = nn.Dropout(dropout_rate)\n",
    "        self.flatten = nn.Flatten()\n",
    "    \n",
    "    def forward(self, x):\n",
    "        x = self.pool(self.relu(self.conv1(x)))\n",
    "        x = self.flatten(x)\n",
    "        x = self.dropout(self.relu(self.fc1(x)))\n",
    "        x = self.dropout(self.relu(self.fc2(x)))\n",
    "        x = self.fc3(x)\n",
    "        return x\n"
   ]
  },
  {
   "cell_type": "code",
   "execution_count": 227,
   "metadata": {},
   "outputs": [
    {
     "name": "stdout",
     "output_type": "stream",
     "text": [
      "using device: mps\n"
     ]
    }
   ],
   "source": [
    "\n",
    "device = torch.device(\"mps\" if torch.backends.mps.is_built() else \"cpu\")\n",
    "print(f\"using device: {device}\")\n",
    "\n",
    "train_size = int(0.8 * len(dataset))\n",
    "test_size = len(dataset) - train_size\n",
    "train_dataset, test_dataset = random_split(dataset, [train_size, test_size])\n",
    "\n",
    "train_loader = DataLoader(train_dataset, batch_size=params['batch'], shuffle=True)\n",
    "test_loader = DataLoader(test_dataset, batch_size=params['batch'], shuffle=False)"
   ]
  },
  {
   "cell_type": "code",
   "execution_count": 228,
   "metadata": {},
   "outputs": [],
   "source": [
    "model = SpaceRatNetwork(params['filters'], params['kernel_size'],params['strides'] ,params['dropout_rate']).to(device)\n",
    "loss_funtion = nn.MSELoss()\n",
    "optimizer = torch.optim.Adam(model.parameters(), lr=params['LR'])"
   ]
  },
  {
   "cell_type": "code",
   "execution_count": 229,
   "metadata": {},
   "outputs": [],
   "source": [
    "model.train()\n",
    "train_losses = []\n",
    "test_losses = []"
   ]
  },
  {
   "cell_type": "code",
   "execution_count": 230,
   "metadata": {},
   "outputs": [
    {
     "name": "stderr",
     "output_type": "stream",
     "text": [
      "/Users/christomathew/PycharmProjects/ML_spacerat/mlrat_venv/lib/python3.12/site-packages/torch/nn/modules/loss.py:608: UserWarning: Using a target size (torch.Size([1])) that is different to the input size (torch.Size([])). This will likely lead to incorrect results due to broadcasting. Please ensure they have the same size.\n",
      "  return F.mse_loss(input, target, reduction=self.reduction)\n"
     ]
    },
    {
     "name": "stdout",
     "output_type": "stream",
     "text": [
      "Epoch 1/50, Train Loss: 2137.3076\n",
      "Test Loss: 1539.3951\n",
      "Epoch 2/50, Train Loss: 1749.7117\n",
      "Test Loss: 1528.6503\n",
      "Epoch 3/50, Train Loss: 1667.7715\n",
      "Test Loss: 1489.8882\n",
      "Epoch 4/50, Train Loss: 1599.7826\n",
      "Test Loss: 1504.7917\n",
      "Epoch 5/50, Train Loss: 1549.9892\n",
      "Test Loss: 1385.0849\n",
      "Epoch 6/50, Train Loss: 1514.5216\n",
      "Test Loss: 1346.6282\n",
      "Epoch 7/50, Train Loss: 1477.4362\n",
      "Test Loss: 1331.7640\n",
      "Epoch 8/50, Train Loss: 1445.3661\n",
      "Test Loss: 1294.7926\n",
      "Epoch 9/50, Train Loss: 1415.8689\n",
      "Test Loss: 1273.7537\n",
      "Epoch 10/50, Train Loss: 1399.1899\n",
      "Test Loss: 1248.5919\n",
      "Epoch 11/50, Train Loss: 1369.7277\n",
      "Test Loss: 1217.5159\n",
      "Epoch 12/50, Train Loss: 1350.8730\n",
      "Test Loss: 1183.3951\n",
      "Epoch 13/50, Train Loss: 1333.5934\n",
      "Test Loss: 1173.7955\n",
      "Epoch 14/50, Train Loss: 1310.9460\n",
      "Test Loss: 1162.8276\n",
      "Epoch 15/50, Train Loss: 1287.7903\n",
      "Test Loss: 1128.3571\n",
      "Epoch 16/50, Train Loss: 1278.6543\n",
      "Test Loss: 1088.0315\n",
      "Epoch 17/50, Train Loss: 1258.4903\n",
      "Test Loss: 1082.8993\n",
      "Epoch 18/50, Train Loss: 1253.4889\n",
      "Test Loss: 1103.0627\n",
      "Epoch 19/50, Train Loss: 1238.4279\n",
      "Test Loss: 1058.9092\n",
      "Epoch 20/50, Train Loss: 1226.5237\n",
      "Test Loss: 1137.5904\n",
      "Epoch 21/50, Train Loss: 1216.8736\n",
      "Test Loss: 1037.4015\n",
      "Epoch 22/50, Train Loss: 1198.0788\n",
      "Test Loss: 1029.6060\n",
      "Epoch 23/50, Train Loss: 1197.8856\n",
      "Test Loss: 1014.9628\n",
      "Epoch 24/50, Train Loss: 1188.8844\n",
      "Test Loss: 1005.7710\n",
      "Epoch 25/50, Train Loss: 1170.5689\n",
      "Test Loss: 1041.9843\n",
      "Epoch 26/50, Train Loss: 1166.3844\n",
      "Test Loss: 989.8196\n",
      "Epoch 27/50, Train Loss: 1162.6903\n",
      "Test Loss: 1033.6827\n",
      "Epoch 28/50, Train Loss: 1139.7867\n",
      "Test Loss: 974.3902\n",
      "Epoch 29/50, Train Loss: 1143.4373\n",
      "Test Loss: 981.5915\n",
      "Epoch 30/50, Train Loss: 1138.0477\n",
      "Test Loss: 960.1476\n",
      "Epoch 31/50, Train Loss: 1132.7326\n",
      "Test Loss: 967.9145\n",
      "Epoch 32/50, Train Loss: 1121.5554\n",
      "Test Loss: 969.2378\n",
      "Epoch 33/50, Train Loss: 1112.4817\n",
      "Test Loss: 929.3609\n",
      "Epoch 34/50, Train Loss: 1110.1512\n",
      "Test Loss: 912.8122\n",
      "Epoch 35/50, Train Loss: 1099.2631\n",
      "Test Loss: 901.1361\n",
      "Epoch 36/50, Train Loss: 1096.9178\n",
      "Test Loss: 919.2719\n",
      "Epoch 37/50, Train Loss: 1092.1332\n",
      "Test Loss: 904.2511\n",
      "Epoch 38/50, Train Loss: 1086.4868\n",
      "Test Loss: 885.8245\n",
      "Epoch 39/50, Train Loss: 1076.4209\n",
      "Test Loss: 884.4156\n",
      "Epoch 40/50, Train Loss: 1072.5176\n",
      "Test Loss: 884.3820\n",
      "Epoch 41/50, Train Loss: 1068.3639\n",
      "Test Loss: 888.5888\n",
      "Epoch 42/50, Train Loss: 1063.5825\n",
      "Test Loss: 866.9885\n",
      "Epoch 43/50, Train Loss: 1063.3343\n",
      "Test Loss: 881.1341\n",
      "Epoch 44/50, Train Loss: 1056.6151\n",
      "Test Loss: 884.6728\n",
      "Epoch 45/50, Train Loss: 1060.5126\n",
      "Test Loss: 873.0670\n",
      "Epoch 46/50, Train Loss: 1051.5031\n",
      "Test Loss: 874.2848\n",
      "Epoch 47/50, Train Loss: 1043.0712\n",
      "Test Loss: 866.6638\n",
      "Epoch 48/50, Train Loss: 1046.4761\n",
      "Test Loss: 862.5907\n",
      "Epoch 49/50, Train Loss: 1038.2187\n",
      "Test Loss: 861.8108\n",
      "Epoch 50/50, Train Loss: 1029.6339\n",
      "Test Loss: 850.3201\n"
     ]
    }
   ],
   "source": [
    "num_epochs = 50\n",
    "for epoch in range(num_epochs):\n",
    "    model.train()\n",
    "    train_loss = 0.0\n",
    "    for inputs, targets in train_loader:\n",
    "        inputs, targets = inputs.to(device), targets.to(device)\n",
    "        optimizer.zero_grad()\n",
    "        \n",
    "        outputs = model(inputs)\n",
    "        \n",
    "        loss = loss_funtion(outputs.squeeze(), targets)\n",
    "        train_loss += loss.item()\n",
    "        \n",
    "        loss.backward()\n",
    "        optimizer.step()\n",
    "    \n",
    "    avg_train_loss = train_loss / len(train_loader)\n",
    "    train_losses.append(avg_train_loss)\n",
    "    print(f\"Epoch {epoch+1}/{num_epochs}, Train Loss: {avg_train_loss:.4f}\")\n",
    "\n",
    "    # Testing Loop\n",
    "    model.eval()\n",
    "    test_loss = 0.0\n",
    "    with torch.no_grad():  \n",
    "        for inputs, targets in test_loader:\n",
    "            inputs, targets = inputs.to(device), targets.to(device)\n",
    "            outputs = model(inputs)\n",
    "            loss = loss_funtion(outputs.squeeze(), targets)\n",
    "            test_loss += loss.item()\n",
    "\n",
    "    avg_test_loss = test_loss / len(test_loader)\n",
    "    test_losses.append(avg_test_loss)\n",
    "    print(f\"Test Loss: {avg_test_loss:.4f}\")"
   ]
  },
  {
   "cell_type": "code",
   "execution_count": 233,
   "metadata": {},
   "outputs": [
    {
     "data": {
      "image/png": "[encoded data removed]",
      "text/plain": [
       "<Figure size 1000x600 with 1 Axes>"
      ]
     },
     "metadata": {},
     "output_type": "display_data"
    }
   ],
   "source": [
    "# Plot the training and testing loss\n",
    "plt.figure(figsize=(10, 6))\n",
    "plt.plot(range(1, len(train_losses) + 1), train_losses, label='Training Loss')\n",
    "plt.plot(range(1, len(test_losses) + 1), test_losses, label='Testing Loss')\n",
    "plt.xlabel('Epoch')\n",
    "plt.ylabel('Loss')\n",
    "plt.title('Training and Testing Loss')\n",
    "plt.legend()\n",
    "plt.grid(True)\n",
    "plt.show()"
   ]
  },
  {
   "cell_type": "code",
   "execution_count": 236,
   "metadata": {},
   "outputs": [
    {
     "name": "stdout",
     "output_type": "stream",
     "text": [
      "Model saved successfully.\n"
     ]
    }
   ],
   "source": [
    "# Save the trained model's state dictionary\n",
    "torch.save(model.state_dict(), 'model_float.pth')\n",
    "print(\"Model saved successfully.\")"
   ]
  },
  {
   "cell_type": "code",
   "execution_count": 237,
   "metadata": {},
   "outputs": [
    {
     "name": "stdout",
     "output_type": "stream",
     "text": [
      "Parameter: conv1.weight, Size: torch.Size([16, 2, 3, 3]), Total Elements: 288\n",
      "Parameter: conv1.bias, Size: torch.Size([16]), Total Elements: 16\n",
      "Parameter: fc1.weight, Size: torch.Size([256, 3600]), Total Elements: 921600\n",
      "Parameter: fc1.bias, Size: torch.Size([256]), Total Elements: 256\n",
      "Parameter: fc2.weight, Size: torch.Size([128, 256]), Total Elements: 32768\n",
      "Parameter: fc2.bias, Size: torch.Size([128]), Total Elements: 128\n",
      "Parameter: fc3.weight, Size: torch.Size([1, 128]), Total Elements: 128\n",
      "Parameter: fc3.bias, Size: torch.Size([1]), Total Elements: 1\n"
     ]
    }
   ],
   "source": [
    "for name, param in model.named_parameters():\n",
    "    if param.requires_grad:\n",
    "        print(f\"Parameter: {name}, Size: {param.size()}, Total Elements: {param.numel()}\")"
   ]
  },
  {
   "cell_type": "markdown",
   "metadata": {},
   "source": [
    "### A sample prediction"
   ]
  },
  {
   "cell_type": "code",
   "execution_count": 238,
   "metadata": {},
   "outputs": [],
   "source": [
    "test_dataset_size = len(test_dataset)"
   ]
  },
  {
   "cell_type": "code",
   "execution_count": 239,
   "metadata": {},
   "outputs": [
    {
     "data": {
      "text/plain": [
       "(tensor([[[0.0000e+00, 0.0000e+00, 0.0000e+00,  ..., 0.0000e+00,\n",
       "           0.0000e+00, 0.0000e+00],\n",
       "          [0.0000e+00, 8.9619e-07, 7.9380e-07,  ..., 4.3623e-06,\n",
       "           9.1242e-07, 0.0000e+00],\n",
       "          [0.0000e+00, 0.0000e+00, 0.0000e+00,  ..., 1.9539e-05,\n",
       "           0.0000e+00, 0.0000e+00],\n",
       "          ...,\n",
       "          [0.0000e+00, 1.0263e-12, 4.7900e-12,  ..., 3.5003e-18,\n",
       "           5.6152e-19, 0.0000e+00],\n",
       "          [0.0000e+00, 0.0000e+00, 1.0978e-12,  ..., 0.0000e+00,\n",
       "           8.7633e-20, 0.0000e+00],\n",
       "          [0.0000e+00, 0.0000e+00, 0.0000e+00,  ..., 0.0000e+00,\n",
       "           0.0000e+00, 0.0000e+00]],\n",
       " \n",
       "         [[0.0000e+00, 0.0000e+00, 0.0000e+00,  ..., 0.0000e+00,\n",
       "           0.0000e+00, 0.0000e+00],\n",
       "          [0.0000e+00, 1.0000e+00, 1.0000e+00,  ..., 1.0000e+00,\n",
       "           1.0000e+00, 0.0000e+00],\n",
       "          [0.0000e+00, 1.0000e+00, 0.0000e+00,  ..., 1.0000e+00,\n",
       "           0.0000e+00, 0.0000e+00],\n",
       "          ...,\n",
       "          [0.0000e+00, 1.0000e+00, 1.0000e+00,  ..., 1.0000e+00,\n",
       "           1.0000e+00, 0.0000e+00],\n",
       "          [0.0000e+00, 0.0000e+00, 1.0000e+00,  ..., 0.0000e+00,\n",
       "           1.0000e+00, 0.0000e+00],\n",
       "          [0.0000e+00, 0.0000e+00, 0.0000e+00,  ..., 0.0000e+00,\n",
       "           0.0000e+00, 0.0000e+00]]]),\n",
       " tensor(106.))"
      ]
     },
     "execution_count": 239,
     "metadata": {},
     "output_type": "execute_result"
    }
   ],
   "source": [
    "random_index = random.randint(0, test_dataset_size - 1)\n",
    "test_instance, true_label = test_loader.dataset[random_index]  # Get the data at the index\n",
    "test_instance, true_label"
   ]
  },
  {
   "cell_type": "code",
   "execution_count": 240,
   "metadata": {},
   "outputs": [
    {
     "data": {
      "text/plain": [
       "(torch.Size([2, 30, 30]), tensor(106.))"
      ]
     },
     "execution_count": 240,
     "metadata": {},
     "output_type": "execute_result"
    }
   ],
   "source": [
    "test_instance.shape, true_label"
   ]
  },
  {
   "cell_type": "code",
   "execution_count": 241,
   "metadata": {},
   "outputs": [
    {
     "name": "stdout",
     "output_type": "stream",
     "text": [
      "Predicted value: 88\n",
      "True label: 86\n"
     ]
    }
   ],
   "source": [
    "random_index = random.randint(0, test_dataset_size - 1)\n",
    "test_instance, true_label = test_loader.dataset[random_index]\n",
    "test_instance = test_instance.unsqueeze(0).to(device) \n",
    "true_label = true_label.to(device)\n",
    "\n",
    "with torch.no_grad():  \n",
    "    output = model(test_instance) \n",
    "    \n",
    "if isinstance(output, torch.Tensor) and output.ndimension() == 1:\n",
    "    predicted_class = torch.argmax(output, dim=1) \n",
    "    print(f\"Predicted class: {predicted_class.item()}\")\n",
    "elif output.ndimension() == 2:  \n",
    "    predicted_value = output.item()  #\n",
    "    print(f\"Predicted value: {int(predicted_value)}\")\n",
    "else:\n",
    "    print(\"Unexpected model output shape.\")\n",
    "print(f\"True label: {int(true_label.item())}\")"
   ]
  },
  {
   "cell_type": "code",
   "execution_count": null,
   "metadata": {},
   "outputs": [],
   "source": []
  }
 ],
 "metadata": {
  "kernelspec": {
   "display_name": "mlrat_venv",
   "language": "python",
   "name": "python3"
  },
  "language_info": {
   "codemirror_mode": {
    "name": "ipython",
    "version": 3
   },
   "file_extension": ".py",
   "mimetype": "text/x-python",
   "name": "python",
   "nbconvert_exporter": "python",
   "pygments_lexer": "ipython3",
   "version": "3.12.4"
  }
 },
 "nbformat": 4,
 "nbformat_minor": 2
}
